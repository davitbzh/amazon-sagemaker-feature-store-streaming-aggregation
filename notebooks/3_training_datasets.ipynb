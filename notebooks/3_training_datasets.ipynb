{
 "cells": [
  {
   "cell_type": "markdown",
   "metadata": {},
   "source": [
    "### HSFS training datasets\n",
    "\n",
    "Training datasets is the third building block of the Hopsworks Feature Store. Data scientists can query the feature store (see [feature_exploration](./feature_exploration.ipynb) notebook) and materialize their query in training datasets.\n",
    "\n",
    "Training datasets can be saved in a ML framework friendly format (eg. TfRecords, CSV, Numpy) and then be fed to a machine learning model for training.\n",
    "\n",
    "Training datasets can also be stored on external storage systems like Amazon S3 or GCS to be read by external model training platforms.\n",
    "\n",
    "As with the previous notebooks, the first step is to establish a connection with the Hopsworks feature store and get the feature store handle"
   ]
  },
  {
   "cell_type": "code",
   "execution_count": null,
   "metadata": {},
   "outputs": [],
   "source": []
  },
  {
   "cell_type": "code",
   "execution_count": 1,
   "metadata": {},
   "outputs": [
    {
     "name": "stdout",
     "output_type": "stream",
     "text": [
      "Starting Spark application\n"
     ]
    },
    {
     "data": {
      "text/html": [
       "<table>\n",
       "<tr><th>ID</th><th>YARN Application ID</th><th>Kind</th><th>State</th><th>Spark UI</th><th>Driver log</th></tr><tr><td>34</td><td>application_1616662753583_0006</td><td>pyspark</td><td>idle</td><td><a target=\"_blank\" href=\"http://daviteunorth-master.internal.cloudapp.net:8088/proxy/application_1616662753583_0006/\">Link</a></td><td><a target=\"_blank\" href=\"http://daviteunorth-worker-2.internal.cloudapp.net:8042/node/containerlogs/container_e15_1616662753583_0006_01_000001/realtime__meb10179\">Link</a></td></tr></table>"
      ],
      "text/plain": [
       "<IPython.core.display.HTML object>"
      ]
     },
     "metadata": {},
     "output_type": "display_data"
    },
    {
     "name": "stdout",
     "output_type": "stream",
     "text": [
      "SparkSession available as 'spark'.\n"
     ]
    }
   ],
   "source": [
    "import re\n",
    "import os \n",
    "import inspect\n",
    "import functools\n",
    "from modulefinder import ModuleFinder"
   ]
  },
  {
   "cell_type": "code",
   "execution_count": 2,
   "metadata": {},
   "outputs": [],
   "source": [
    "from hsfs_transformers import core"
   ]
  },
  {
   "cell_type": "code",
   "execution_count": null,
   "metadata": {},
   "outputs": [],
   "source": []
  },
  {
   "cell_type": "code",
   "execution_count": 5,
   "metadata": {},
   "outputs": [],
   "source": [
    "import ast\n",
    "from collections import namedtuple\n",
    "def get_imports(path):\n",
    "    Import = namedtuple(\"Import\", [\"module\", \"name\", \"alias\"])\n",
    "    with open(path) as fh:        \n",
    "        root = ast.parse(fh.read(), path)\n",
    "        \n",
    "    for node in ast.iter_child_nodes(root):\n",
    "        if isinstance(node, ast.Import):\n",
    "            module = []\n",
    "        elif isinstance(node, ast.ImportFrom):  \n",
    "            module = node.module.split('.')\n",
    "        else:\n",
    "            print(\"-->\", vars(node))\n",
    "            continue\n",
    "\n",
    "        for n in node.names:\n",
    "            print (Import(module, n.name.split('.'), n.asname))"
   ]
  },
  {
   "cell_type": "code",
   "execution_count": 6,
   "metadata": {},
   "outputs": [
    {
     "name": "stdout",
     "output_type": "stream",
     "text": [
      "Import(module=[], name=['numpy'], alias='np')\n",
      "Import(module=[], name=['pandas'], alias='pd')\n",
      "Import(module=['pyspark', 'sql', 'functions'], name=['udf'], alias=None)\n",
      "Import(module=['hsfs'], name=['util'], alias=None)\n",
      "Import(module=['hsfs'], name=['engine'], alias=None)\n",
      "Import(module=['hsfs'], name=['training_dataset_feature'], alias=None)\n",
      "Import(module=['hsfs', 'statistics_config'], name=['StatisticsConfig'], alias=None)\n",
      "Import(module=['hsfs', 'storage_connector'], name=['StorageConnector'], alias=None)\n",
      "Import(module=['hsfs', 'core'], name=['training_dataset_api'], alias=None)\n",
      "Import(module=['hsfs', 'core'], name=['training_dataset_engine'], alias=None)\n",
      "Import(module=['hsfs', 'core'], name=['tfdata_engine'], alias=None)\n",
      "Import(module=['hsfs', 'core'], name=['statistics_engine'], alias=None)\n",
      "Import(module=['hsfs', 'constructor'], name=['query'], alias=None)\n",
      "--> {'name': 'plus_one', 'args': <_ast.arguments object at 0x7f204498f550>, 'body': [<_ast.Return object at 0x7f204498fad0>], 'decorator_list': [<_ast.Call object at 0x7f1fe4183110>], 'returns': None, 'lineno': 17, 'col_offset': 0}"
     ]
    }
   ],
   "source": [
    "get_imports(core.__file__)"
   ]
  },
  {
   "cell_type": "code",
   "execution_count": 53,
   "metadata": {},
   "outputs": [],
   "source": [
    "def _get_module_source(module_name):\n",
    "        return inspect.getsource(module_name)\n",
    "def get_module_source(transform_fn):  \n",
    "    module_source = {}\n",
    "    exec (\"\"\"import %s\\nmodule_source[\"text\"] = _get_module_source(%s)\"\"\" % (transform_fn.__module__,transform_fn.__module__))\n",
    "    return module_source[\"text\"] "
   ]
  },
  {
   "cell_type": "code",
   "execution_count": 54,
   "metadata": {},
   "outputs": [],
   "source": [
    "def get_imports(module_source):\n",
    "    pyspark_import_lines = []\n",
    "    python_import_lines = []\n",
    "    # split source code in lines\n",
    "    lines = module_source.splitlines()\n",
    "    # get imports\n",
    "    for i in range(len(lines)):\n",
    "        if lines[i].strip().startswith((\"from\", \"import\")):\n",
    "            if 'pyspark' in lines[i]:\n",
    "                pyspark_import_lines.append(lines[i]) \n",
    "            else:\n",
    "                python_import_lines.append(lines[i]) \n",
    "    return python_import_lines, pyspark_import_lines"
   ]
  },
  {
   "cell_type": "code",
   "execution_count": 55,
   "metadata": {},
   "outputs": [],
   "source": [
    "def remove_pyspark_udf(source_code):  \n",
    "    pattern=\"def\"\n",
    "    without_comment_lines = []\n",
    "    pure_python_code_lines = []\n",
    "    is_udf = False\n",
    "    \n",
    "    # split source code in lines\n",
    "    lines = source_code.splitlines()\n",
    "    \n",
    "    # remove comeented or empty lines\n",
    "    for i in range(len(lines)):\n",
    "        if not lines[i].strip().startswith((\"#\")) and len(lines[i].strip()) != 0 :\n",
    "            without_comment_lines.append(lines[i]) \n",
    "\n",
    "    # find pyspark udf dicorator above function definition if any \n",
    "    for lineno, line in enumerate(without_comment_lines):\n",
    "        if pattern in line:\n",
    "            first_line = max(lineno - 1, 0)\n",
    "            if is_udf:\n",
    "                break\n",
    "                                \n",
    "    # identify if the provided function is pyspark udf type\n",
    "    code_above_def = without_comment_lines[first_line]\n",
    "    is_udf = code_above_def.startswith((\"@udf\",\"@pandas_udf\"))\n",
    "    \n",
    "    # if udf decorated then remove decorator and create pure python function for serving\n",
    "    if is_udf:            \n",
    "        for i in range(len(lines)):\n",
    "            if not lines[i].startswith((\"@udf\",\"@pandas_udf\")):\n",
    "                pure_python_code_lines.append(lines[i])\n",
    "        assert len(pure_python_code_lines) > 0        \n",
    "        return '\\n'.join(pure_python_code_lines)\n",
    "    else:\n",
    "        return None\n"
   ]
  },
  {
   "cell_type": "code",
   "execution_count": 56,
   "metadata": {},
   "outputs": [],
   "source": [
    "def hsfs_transformer(function, query, fg_name, feature_name):\n",
    "\n",
    "    @functools.wraps(function)\n",
    "    def decorated_transformer(*args, **kwds):\n",
    "        source_code = inspect.getsource(function)\n",
    "        print(source_code)\n",
    "        \n",
    "        type=\"python\"\n",
    "        function_source = inspect.getargspec(function)       \n",
    "        module_source = get_module_source(function)             \n",
    "        pure_python_code = remove_pyspark_udf(source_code)\n",
    "        \n",
    "        python_import_lines, pyspark_import_lines = get_imports(module_source)\n",
    "\n",
    "        # sanity check\n",
    "        _correct_fg = False\n",
    "        _correct_ft = False\n",
    "\n",
    "        for feature in query._left_feature_group.features:\n",
    "            if feature_name == feature.name:\n",
    "                _correct_ft = True\n",
    "                break\n",
    "        if fg_name != query._left_feature_group.name:\n",
    "            for join in query._joins:\n",
    "                for feature in join.query._left_feature_group.features:\n",
    "                    if feature_name == feature.name:\n",
    "                        correct_ft = True\n",
    "                        break\n",
    "                if fg_name == join.query._left_feature_group.name:\n",
    "                    correct_fg = True\n",
    "                    break        \n",
    "        else:\n",
    "            _correct_fg = True\n",
    "        \n",
    "        if not _correct_fg:\n",
    "            raise Exception(\"Not correct Feature Group\")\n",
    "        if not _correct_ft:\n",
    "            raise Exception(\"Not correct Feature\")\n",
    "\n",
    "        print (\"-------------------------\")\n",
    "        print(\"function_name: \", function.__name__)\n",
    "        print (\"-------------------------\")\n",
    "        print(\"function_args: \", args)\n",
    "        print (\"-------------------------\")\n",
    "        print(\"function_kwds: \", kwds)\n",
    "        print (\"----------- python_import_lines --------------\")\n",
    "        print ( python_import_lines)\n",
    "        print (\"----------- pyspark_import_lines --------------\")\n",
    "        print (pyspark_import_lines)\n",
    "        print (\"----------- function_source --------------\")\n",
    "        print (function_source)\n",
    "        print (\"----------- pure_python_code -------------\")\n",
    "        print(pure_python_code)\n",
    "        print (\"------------ module_source -------------\")\n",
    "        print(module_source)\n",
    "            \n",
    "        return function(*args, **kwds)\n",
    "    return decorated_transformer"
   ]
  },
  {
   "cell_type": "code",
   "execution_count": null,
   "metadata": {},
   "outputs": [],
   "source": []
  },
  {
   "cell_type": "code",
   "execution_count": 57,
   "metadata": {},
   "outputs": [
    {
     "name": "stdout",
     "output_type": "stream",
     "text": [
      "Connected. Call `.close()` to terminate connection gracefully."
     ]
    }
   ],
   "source": [
    "import hsfs\n",
    "# Create a connection\n",
    "connection = hsfs.connection()\n",
    "# Get the feature store handle for the project's feature store\n",
    "fs = connection.get_feature_store()"
   ]
  },
  {
   "cell_type": "markdown",
   "metadata": {},
   "source": [
    "### Create a training dataset from a query\n",
    "\n",
    "In the previous notebook ([feature_exploration](./feature_exploration.ipynb)) we walked through how to explore and query the Hopsworks feature store using HSFS. We can use the queries produced in the previous notebook to create a training dataset."
   ]
  },
  {
   "cell_type": "code",
   "execution_count": 58,
   "metadata": {},
   "outputs": [
    {
     "name": "stdout",
     "output_type": "stream",
     "text": [
      "VersionWarning: No version provided for getting feature group `sliced1_fg`, defaulting to `1`."
     ]
    }
   ],
   "source": [
    "sliced1_fg = fs.get_feature_group('sliced1_fg')"
   ]
  },
  {
   "cell_type": "code",
   "execution_count": 59,
   "metadata": {},
   "outputs": [
    {
     "name": "stdout",
     "output_type": "stream",
     "text": [
      "VersionWarning: No version provided for getting feature group `sliced_df2`, defaulting to `1`."
     ]
    }
   ],
   "source": [
    "sliced2_fg = fs.get_feature_group('sliced_df2')"
   ]
  },
  {
   "cell_type": "code",
   "execution_count": 65,
   "metadata": {},
   "outputs": [],
   "source": [
    "query = sliced1_fg.select(['cc_num', 'num_trans_last_1w', 'avg_amt_last_1w']).join(sliced2_fg.select_all())"
   ]
  },
  {
   "cell_type": "code",
   "execution_count": null,
   "metadata": {},
   "outputs": [],
   "source": []
  },
  {
   "cell_type": "code",
   "execution_count": 66,
   "metadata": {},
   "outputs": [
    {
     "name": "stdout",
     "output_type": "stream",
     "text": [
      "+----------------+-----------------+------------------+-----------+--------------------+-------------------+------+--------------------+--------------------+--------------------+------------------+----------------+----------+\n",
      "|          cc_num|num_trans_last_1w|   avg_amt_last_1w|fraud_label|          amt_ratio2|           datetime|amount|         count_ratio|                 tid|          amt_ratio1|num_trans_last_10m|avg_amt_last_10m|      date|\n",
      "+----------------+-----------------+------------------+-----------+--------------------+-------------------+------+--------------------+--------------------+--------------------+------------------+----------------+----------+\n",
      "|4794233751173765|               26| 566.1526923076922|          0| 0.16294190816964985|2020-05-31 15:50:22| 92.25|0.038461538461538464|045c7b3d51ae6df50...| 0.16294190816964985|                 1|           92.25|2020-05-31|\n",
      "|4460285888258185|               32| 885.8431250000001|          0|0.011435433333639068|2020-05-31 23:56:47| 10.13|             0.03125|4ac56f58a1e1023e9...|0.011435433333639068|                 1|           10.13|2020-05-31|\n",
      "|4925013053127624|               29| 886.9306896551726|          0|8.568877014453952E-4|2020-05-31 18:31:38|  0.76|0.034482758620689655|e11a5f8ad2fc2923a...|8.568877014453952E-4|                 1|            0.76|2020-05-31|\n",
      "|4526094550580419|               31|466.77064516129036|          0| 0.07483332630724905|2020-05-31 23:55:52| 34.93| 0.03225806451612903|82ca199cb633f1200...| 0.07483332630724905|                 1|           34.93|2020-05-31|\n",
      "|4213741526478791|               40| 946.1007499999998|          0|  0.7039736518547313|2020-05-31 21:34:31|666.03|               0.025|c3d24516e9f2ca9e5...|  0.7039736518547313|                 1|          666.03|2020-05-31|\n",
      "+----------------+-----------------+------------------+-----------+--------------------+-------------------+------+--------------------+--------------------+--------------------+------------------+----------------+----------+\n",
      "only showing top 5 rows"
     ]
    }
   ],
   "source": [
    "query.show(5)"
   ]
  },
  {
   "cell_type": "code",
   "execution_count": 70,
   "metadata": {},
   "outputs": [],
   "source": [
    "#fs.register_transform_fn(plus_one)"
   ]
  },
  {
   "cell_type": "code",
   "execution_count": 71,
   "metadata": {},
   "outputs": [],
   "source": [
    "plus_one = hsfs_transformer(core.plus_one, query=query, fg_name=\"sliced1_fg\", feature_name=\"avg_amt_last_1w\")\n",
    "#td.attach_transform_fn([plus_one, plus_one])\n",
    "#td.save(query)\n",
    "#td.detach_transform_fn([plus_one, plus_one])"
   ]
  },
  {
   "cell_type": "code",
   "execution_count": 72,
   "metadata": {},
   "outputs": [
    {
     "name": "stdout",
     "output_type": "stream",
     "text": [
      "@udf('double')\n",
      "# Input/output are both a single double value\n",
      "\n",
      "def plus_one(value):\n",
      "      return value + 1\n",
      "\n",
      "-------------------------\n",
      "function_name:  plus_one\n",
      "-------------------------\n",
      "function_args:  (Column<b'avg_amt_last_1w'>,)\n",
      "-------------------------\n",
      "function_kwds:  {}\n",
      "----------- python_import_lines --------------\n",
      "['import numpy as np', 'import pandas as pd']\n",
      "----------- pyspark_import_lines --------------\n",
      "['from pyspark.sql.functions import udf']\n",
      "----------- function_source --------------\n",
      "ArgSpec(args=[], varargs='args', keywords=None, defaults=None)\n",
      "----------- pure_python_code -------------\n",
      "# Input/output are both a single double value\n",
      "\n",
      "def plus_one(value):\n",
      "      return value + 1\n",
      "------------ module_source -------------\n",
      "import numpy as np\n",
      "import pandas as pd\n",
      "from pyspark.sql.functions import udf\n",
      "\n",
      "# Use udf to define a row-at-a-time udf\n",
      "@udf('double')\n",
      "# Input/output are both a single double value\n",
      "\n",
      "def plus_one(value):\n",
      "      return value + 1\n",
      "\n",
      "\n",
      "+----------------+--------------------+-----------------+------------------+----------+------------------+\n",
      "|          cc_num|                 tid|num_trans_last_1w|   avg_amt_last_1w|      date|                v2|\n",
      "+----------------+--------------------+-----------------+------------------+----------+------------------+\n",
      "|4384014188635576|4fe0a43ebe40ea4cc...|               28| 600.9217857142858|2020-06-01| 601.9217857142858|\n",
      "|4925013053127624|e11a5f8ad2fc2923a...|               29| 886.9306896551726|2020-05-31| 887.9306896551726|\n",
      "|4253589902657103|de0d824f943b9fc5d...|               28|           1238.08|2020-05-31|           1239.08|\n",
      "|4223253728365626|666dbd6c6577c0160...|               31| 653.2532258064517|2020-05-31| 654.2532258064517|\n",
      "|4307553668184625|668cb927077a808fa...|               30|1073.6286666666667|2020-05-31|1074.6286666666667|\n",
      "|4281783875596457|5f4fd652aa930cb08...|               20| 585.2560000000001|2020-05-31| 586.2560000000001|\n",
      "|4794233751173765|045c7b3d51ae6df50...|               26| 566.1526923076922|2020-05-31| 567.1526923076922|\n",
      "|4858129660270572|ae3fc0640b8f7c2b8...|               25|          280.4052|2020-05-31|          281.4052|\n",
      "|4978667132535671|7a980ecd61759ad58...|               29| 657.0896551724137|2020-05-31| 658.0896551724137|\n",
      "|4170245277417751|7923703c523848375...|               33| 649.0357575757575|2020-05-31| 650.0357575757575|\n",
      "|4148950609641791|58076b02a1fdbcf19...|               24|          378.6775|2020-05-31|          379.6775|\n",
      "|4671096685272336|994b104c121929292...|               20|           528.637|2020-05-31|           529.637|\n",
      "|4956860373932956|0abc39fc2cffb5d6a...|               29|  770.059655172414|2020-05-31|  771.059655172414|\n",
      "|4827807245873162|e66254f2999bacee1...|               35| 719.7405714285715|2020-05-31| 720.7405714285715|\n",
      "|4161715127983823|da6c53bfac9129d43...|               22| 532.4986363636364|2020-05-31| 533.4986363636364|\n",
      "|4208317936968510|1e01100a8b51c2525...|               20| 591.7260000000001|2020-05-31| 592.7260000000001|\n",
      "|4259753809723533|b78b252cb0fed19cc...|               29|1315.8644827586204|2020-05-31|1316.8644827586204|\n",
      "|4671956999823027|75124fe6657bdfd60...|               34|189.07647058823534|2020-05-31|190.07647058823534|\n",
      "|4526611032294580|813461ac4fbce061e...|               23|1081.2743478260873|2020-05-31|1082.2743478260873|\n",
      "|4789490563144262|28e12670c72eed4d3...|               30| 541.5566666666666|2020-05-31| 542.5566666666666|\n",
      "+----------------+--------------------+-----------------+------------------+----------+------------------+\n",
      "only showing top 20 rows"
     ]
    }
   ],
   "source": [
    "df = sliced1_fg.read()\n",
    "df = df.withColumn('v2', plus_one(df.avg_amt_last_1w))\n",
    "df.show()"
   ]
  },
  {
   "cell_type": "code",
   "execution_count": null,
   "metadata": {},
   "outputs": [],
   "source": []
  },
  {
   "cell_type": "code",
   "execution_count": null,
   "metadata": {},
   "outputs": [],
   "source": []
  },
  {
   "cell_type": "code",
   "execution_count": 76,
   "metadata": {},
   "outputs": [
    {
     "name": "stdout",
     "output_type": "stream",
     "text": [
      "\"\\nprint(os.environ['ARROW_PRE_0_15_IPC_FORMAT'])\\n\\nfrom pyspark.sql.functions import pandas_udf, PandasUDFType\\n\\n# Use pandas_udf to define a Pandas UDF\\n@pandas_udf('double', PandasUDFType.SCALAR)\\n# Input/output are both a pandas.Series of doubles\\ndef pandas_plus_one(v):\\n    return v + 1\\n\\ndf = df.withColumn('v3', pandas_plus_one(df.avg_amt_last_1w))\\ndf.show()\\n\""
     ]
    }
   ],
   "source": [
    "\"\"\"\n",
    "print(os.environ['ARROW_PRE_0_15_IPC_FORMAT'])\n",
    "\n",
    "from pyspark.sql.functions import pandas_udf, PandasUDFType\n",
    "\n",
    "# Use pandas_udf to define a Pandas UDF\n",
    "@pandas_udf('double', PandasUDFType.SCALAR)\n",
    "# Input/output are both a pandas.Series of doubles\n",
    "def pandas_plus_one(v):\n",
    "    return v + 1\n",
    "\n",
    "df = df.withColumn('v3', pandas_plus_one(df.avg_amt_last_1w))\n",
    "df.show()\n",
    "\"\"\""
   ]
  },
  {
   "cell_type": "code",
   "execution_count": null,
   "metadata": {},
   "outputs": [],
   "source": []
  },
  {
   "cell_type": "code",
   "execution_count": null,
   "metadata": {},
   "outputs": [],
   "source": [
    "class Transformer(object):\n",
    "    def __init__(self):\n",
    "        print(\"[Transformer] Initializing...\")\n",
    "        \n",
    "    def preprocess(self, inputs):\n",
    "        print(\"[Transformer] Preprocess:\")\n",
    "        print(inputs)\n",
    "        \n",
    "        inputs -> primary dict_keys\n",
    "        feature_vector = hsfs.get_serving_vector(dict_keys)\n",
    "        \n",
    "        trans_functions = hsfs.get_training_dataset(os.env[MODEL_NAME]).get_trans_func()\n",
    "        schema = hsfs.get_training_dataset().td_query\n",
    "        \n",
    "        for trans_f in trans_functions:\n",
    "            f_id = schema(trans_f.feature_name)\n",
    "            \n",
    "            feature_vector[findex] = trans_f(feature_vector[findex]) \n",
    "            \n",
    "            feature_vector[findex] = trans_f(feature_vector[findex])\n",
    "\n",
    "            feature_vector[findex] = trans_f(feature_vector[findex])\n",
    "            \n",
    "        pipe_trans_function = hsfs.get_training_dataset(os.env[MODEL_NAME]).get_trans_func()\n",
    "        \n",
    "        results = pipe_trans_function(feature_vector)\n",
    "        \n",
    "        return results\n",
    "    \n",
    "    def postprocess(self, outputs):\n",
    "        print(\"[Transformer] Postprocess and return...\")\n",
    "        print(outputs)\n",
    "        return outputs"
   ]
  },
  {
   "cell_type": "code",
   "execution_count": null,
   "metadata": {},
   "outputs": [],
   "source": []
  },
  {
   "cell_type": "code",
   "execution_count": null,
   "metadata": {},
   "outputs": [],
   "source": []
  },
  {
   "cell_type": "markdown",
   "metadata": {},
   "source": [
    "As for the feature groups, we first need to generate a metadata object representing the training dataset. After that, we can call the `save()` method to persist it in the Hopsworks feature store.\n",
    "Different file formats are available: `csv`, `tfrecord`, `npy`, `hdf5`, `avro`, `parquet`, `orc`."
   ]
  },
  {
   "cell_type": "code",
   "execution_count": 3,
   "metadata": {},
   "outputs": [
    {
     "name": "stdout",
     "output_type": "stream",
     "text": [
      "<hsfs.training_dataset.TrainingDataset object at 0x7f94701b38d0>"
     ]
    }
   ],
   "source": [
    "td = fs.create_training_dataset(name=\"sales_model\",\n",
    "                               description=\"Dataset to train the sales model\",\n",
    "                               data_format=\"csv\",\n",
    "                               version=1)\n",
    "\n",
    "td.save(query)"
   ]
  },
  {
   "cell_type": "markdown",
   "metadata": {},
   "source": [
    "#### Pass write options\n",
    "\n",
    "When you save a training dataset, you have the possibility of specifying additional parameters to the Spark writer. For instance, in the example below, we are adding the headers to the CSV file."
   ]
  },
  {
   "cell_type": "code",
   "execution_count": 4,
   "metadata": {},
   "outputs": [
    {
     "name": "stdout",
     "output_type": "stream",
     "text": [
      "<hsfs.training_dataset.TrainingDataset object at 0x7f948851b610>"
     ]
    }
   ],
   "source": [
    "td = fs.create_training_dataset(name=\"sales_model\",\n",
    "                               description=\"Dataset to train the sales model\",\n",
    "                               data_format=\"csv\",\n",
    "                               version=2)\n",
    "\n",
    "td.save(query, {'hearder': 'true'})"
   ]
  },
  {
   "cell_type": "markdown",
   "metadata": {},
   "source": [
    "#### Split the training dataset\n",
    "\n",
    "If you are training a model, you might want to split the training datasets into different slices (training, test and validation). HSFS allows you to specify the split sizes. You can also provide a seed for the random splitter, if you want to reproduce a training dataset."
   ]
  },
  {
   "cell_type": "code",
   "execution_count": 5,
   "metadata": {},
   "outputs": [
    {
     "name": "stdout",
     "output_type": "stream",
     "text": [
      "<hsfs.training_dataset.TrainingDataset object at 0x7f9488528510>"
     ]
    }
   ],
   "source": [
    "td = fs.create_training_dataset(name=\"sales_model\",\n",
    "                               description=\"Dataset to train the sales model\",\n",
    "                               data_format=\"csv\",\n",
    "                               splits={'train': 0.7, 'test': 0.2, 'validate': 0.1},\n",
    "                               version=3)\n",
    "\n",
    "td.save(query, {'hearder': 'true'})"
   ]
  },
  {
   "cell_type": "markdown",
   "metadata": {},
   "source": [
    "#### Save the dataset on an external storage system\n",
    "\n",
    "If you are training your model on an external machine learning platform (e.g. SageMaker), you might want to save the training dataset on an external storage system (e.g. S3). You can take advantage of the Hopsworks storage connectors (see [documentation](https://hopsworks.readthedocs.io/en/latest/featurestore/guides/featurestore.html#configuring-storage-connectors-for-the-feature-store)).\n",
    "\n",
    "Assuming you have created an S3 storage connector name `td_bucket_connector`, you can create an external training dataset as follows:"
   ]
  },
  {
   "cell_type": "code",
   "execution_count": null,
   "metadata": {},
   "outputs": [],
   "source": [
    "td_bucket_connector = fs.get_storage_connector(\"td_bucket_connector\", \"S3\")\n",
    "\n",
    "td = fs.create_training_dataset(name=\"sales_model\",\n",
    "                               description=\"Dataset to train the sales model\",\n",
    "                               data_format=\"csv\",\n",
    "                               storage_connector=td_bucket_connector,\n",
    "                               version=4)\n",
    "\n",
    "### This code is expected to fail if you connector is not configured properly\n",
    "td.save(query)"
   ]
  },
  {
   "cell_type": "markdown",
   "metadata": {},
   "source": [
    "#### Replay the query that generated the training dataset\n",
    "\n",
    "If you created a training dataset from a query object, then you can ask the feature store to return the set of features (in order) and the set of joins that generated. \n",
    "This feature is useful if you are serving a model in production and you want to augment the inference vector with features taken from the online feature store"
   ]
  },
  {
   "cell_type": "code",
   "execution_count": 6,
   "metadata": {},
   "outputs": [
    {
     "name": "stdout",
     "output_type": "stream",
     "text": [
      "SELECT `fg0`.`sales_last_quarter_store_dep`, `fg0`.`store`, `fg0`.`sales_last_month_store_dep`, `fg0`.`sales_last_year_store`, `fg0`.`sales_last_quarter_store`, `fg0`.`sales_last_six_month_store_dep`, `fg0`.`sales_last_year_store_dep`, `fg0`.`sales_last_month_store`, `fg0`.`dept`, `fg0`.`sales_last_six_month_store`, `fg0`.`weekly_sales`, `fg0`.`is_holiday`, `fg0`.`date`, `fg1`.`fuel_price`, `fg1`.`unemployment`, `fg1`.`cpi`\n",
      "FROM `demo_fs_meb10000`.`sales_fg_1` `fg0`\n",
      "INNER JOIN `demo_fs_meb10000`.`exogenous_fg_1` `fg1` ON `fg0`.`date` = `fg1`.`date` AND `fg0`.`store` = `fg1`.`store`\n",
      "VersionWarning: No version provided for getting training dataset `sales_model`, defaulting to `1`."
     ]
    }
   ],
   "source": [
    "td = fs.get_training_dataset(name=\"sales_model\")\n",
    "print(td.query)"
   ]
  },
  {
   "cell_type": "markdown",
   "metadata": {},
   "source": [
    "### Create a training dataset from a DataFrame\n",
    "\n",
    "If you need to apply additional transformations before creating a training dataset, you can create one from a Spark DataFrame instead of using a query.\n",
    "The `create_training_dataset` part stays the same, the difference is that we are going to pass a DataFrame to the `save()` method.\n",
    "\n",
    "As you have applied additional transformations between the query object and the training dataset, we won't be able to re-play the query for this specific training dataset."
   ]
  },
  {
   "cell_type": "code",
   "execution_count": 7,
   "metadata": {},
   "outputs": [],
   "source": [
    "from pyspark.sql import functions as F\n",
    "df = query.read()\n",
    "# Apply additional transformations\n",
    "df = (df.withColumn(\"is_holiday\", F.when(F.col(\"is_holiday\") == \"true\", 1 ).otherwise(0))\n",
    "       .withColumn(\"unemployment\", F.col(\"unemployment\").cast(\"double\")) \n",
    "       .withColumn(\"cpi\", F.col(\"cpi\").cast(\"double\"))\n",
    "       .drop(\"date\"))"
   ]
  },
  {
   "cell_type": "markdown",
   "metadata": {},
   "source": [
    "#### save as `csv` format"
   ]
  },
  {
   "cell_type": "code",
   "execution_count": 8,
   "metadata": {},
   "outputs": [
    {
     "name": "stdout",
     "output_type": "stream",
     "text": [
      "<hsfs.training_dataset.TrainingDataset object at 0x7f94884e0150>"
     ]
    }
   ],
   "source": [
    "td = fs.create_training_dataset(name=\"sales_model\",\n",
    "                               description=\"Dataset to train the sales model\",\n",
    "                               data_format=\"csv\",\n",
    "                               splits={'train': 0.7, 'test': 0.2, 'validate': 0.1},                                \n",
    "                               version=5)\n",
    "\n",
    "td.save(df)"
   ]
  },
  {
   "cell_type": "markdown",
   "metadata": {},
   "source": [
    "#### save as `tfrecord` format"
   ]
  },
  {
   "cell_type": "code",
   "execution_count": 9,
   "metadata": {},
   "outputs": [
    {
     "name": "stdout",
     "output_type": "stream",
     "text": [
      "<hsfs.training_dataset.TrainingDataset object at 0x7f948849f210>"
     ]
    }
   ],
   "source": [
    "td = fs.create_training_dataset(name=\"sales_model\",\n",
    "                               description=\"Dataset to train the sales model\",\n",
    "                               data_format=\"tfrecord\",\n",
    "                               splits={'train': 0.7, 'test': 0.2, 'validate': 0.1},                                \n",
    "                               version=6)\n",
    "\n",
    "td.save(df)"
   ]
  },
  {
   "cell_type": "markdown",
   "metadata": {},
   "source": [
    "### Add a tag to a training dataset\n",
    "\n",
    "As for feature groups, you can add tags to a training dataset. Tags are indexed and you can search for them in the Hopsworks feature store UI. Tags are an useful tool to catalog the feature store. The `value` field can be omitted. "
   ]
  },
  {
   "cell_type": "markdown",
   "metadata": {},
   "source": [
    "#### Tagging Training Datasets\n",
    "The feature store enables users to attach tags to training dataset in order to make them discoverable across feature\n",
    "stores.  A tag is a simple {key: value} association, providing additional information about the data, such as for\n",
    "example geographic origin. This is useful in an organization as it makes easier to discover for data scientists, reduces\n",
    "duplicated work in terms of for example data preparation. The tagging feature is only available in the enterprise version."
   ]
  },
  {
   "cell_type": "markdown",
   "metadata": {},
   "source": [
    "#### Define tags that can be attached\n",
    "The first step is to define a set of tags that can be attached. Such as for example “Country” to tag data as being from\n",
    "a certain geographic location and “Sport” to further associate a type of Sport with the data.\n",
    "\n",
    "![Define tags that can be attached](images/creating_tags.gif)"
   ]
  },
  {
   "cell_type": "markdown",
   "metadata": {},
   "source": [
    "#### Attach tags using the UI\n",
    "Tags can then be attached using the feature store UI or programmatically using the API.\n",
    "Attaching tags to feature group.\n",
    "\n",
    "![Attach tags using the UI](images/attach_tags.gif)"
   ]
  },
  {
   "cell_type": "code",
   "execution_count": 13,
   "metadata": {},
   "outputs": [],
   "source": [
    "td = fs.get_training_dataset(\"sales_model\", 5)\n",
    "td.add_tag(\"model\", value=\"sales\")"
   ]
  },
  {
   "cell_type": "markdown",
   "metadata": {},
   "source": [
    "From the HSFS API you can also list all the tags associated with a specific training dataset"
   ]
  },
  {
   "cell_type": "code",
   "execution_count": 2,
   "metadata": {},
   "outputs": [
    {
     "name": "stdout",
     "output_type": "stream",
     "text": [
      "[{'model': 'sales'}]"
     ]
    }
   ],
   "source": [
    "td = fs.get_training_dataset(\"sales_model\", 5)\n",
    "td.get_tag()"
   ]
  },
  {
   "cell_type": "markdown",
   "metadata": {},
   "source": [
    "### Read a training dataset\n",
    "\n",
    "As for feature groups, you can call the methods `show()` method to get a preview of the training dataset and `read()` to get a Spark DataFrame of it."
   ]
  },
  {
   "cell_type": "code",
   "execution_count": 10,
   "metadata": {},
   "outputs": [
    {
     "name": "stdout",
     "output_type": "stream",
     "text": [
      "+----------------------------+-----+--------------------------+---------------------+------------------------+------------------------------+-------------------------+----------------------+----+--------------------------+------------+----------+-------------------+----------+------------+-----------+\n",
      "|sales_last_quarter_store_dep|store|sales_last_month_store_dep|sales_last_year_store|sales_last_quarter_store|sales_last_six_month_store_dep|sales_last_year_store_dep|sales_last_month_store|dept|sales_last_six_month_store|weekly_sales|is_holiday|               date|fuel_price|unemployment|        cpi|\n",
      "+----------------------------+-----+--------------------------+---------------------+------------------------+------------------------------+-------------------------+----------------------+----+--------------------------+------------+----------+-------------------+----------+------------+-----------+\n",
      "|                         0.0|   20|                       0.0|                  0.0|                     0.0|                           0.0|                      0.0|                   0.0|  55|                       0.0|    32362.95|     false|2010-02-05 00:00:00|     2.784|       8.187|204.2471935|\n",
      "|                         0.0|   20|                       0.0|                  0.0|                     0.0|                           0.0|                      0.0|                   0.0|  94|                       0.0|    63787.83|     false|2010-02-05 00:00:00|     2.784|       8.187|204.2471935|\n",
      "|                         0.0|   20|                       0.0|                  0.0|                     0.0|                           0.0|                      0.0|                   0.0|  22|                       0.0|    17597.83|     false|2010-02-05 00:00:00|     2.784|       8.187|204.2471935|\n",
      "|                         0.0|   20|                       0.0|                  0.0|                     0.0|                           0.0|                      0.0|                   0.0|  30|                       0.0|     9488.37|     false|2010-02-05 00:00:00|     2.784|       8.187|204.2471935|\n",
      "|                         0.0|   20|                       0.0|                  0.0|                     0.0|                           0.0|                      0.0|                   0.0|   2|                       0.0|    85812.69|     false|2010-02-05 00:00:00|     2.784|       8.187|204.2471935|\n",
      "+----------------------------+-----+--------------------------+---------------------+------------------------+------------------------------+-------------------------+----------------------+----+--------------------------+------------+----------+-------------------+----------+------------+-----------+\n",
      "only showing top 5 rows"
     ]
    }
   ],
   "source": [
    "td = fs.get_training_dataset(\"sales_model\", 2)\n",
    "td.show(5)"
   ]
  },
  {
   "cell_type": "markdown",
   "metadata": {},
   "source": [
    "If you have splitted your training dataset, you can also read a single split"
   ]
  },
  {
   "cell_type": "code",
   "execution_count": 11,
   "metadata": {},
   "outputs": [
    {
     "name": "stdout",
     "output_type": "stream",
     "text": [
      "295125"
     ]
    }
   ],
   "source": [
    "td = fs.get_training_dataset(\"sales_model\", 6)\n",
    "td.read(\"train\").count()"
   ]
  },
  {
   "cell_type": "markdown",
   "metadata": {},
   "source": [
    "### Input the training dataset to a model training loop\n",
    "If you are training a model, HSFS provides `tf_data` method that returns `TFDataEngine` object with utility methods to read training dataset as `tf.data.Dataset` object to read the training dataset and feed it to a model training loop efficiently. \n",
    "* Currently `TFDataEngine` provides 2 utility methods `tf_record_dataset` and `tf_csv_dataset` for reading `.tfrecord` and `.csv` files, respectivelly.\n",
    "* Both methods support only following feature types `string`, `short`, `int`, `long`, `float` and `double`.\n",
    "* In both methods you can set `process` argument to `True` and they will return `PrefetchDataset` ready to input to model training loop.\n",
    "* If you would like to apply your own logic to feature transformation using `tf.data.Dataset` then set `process` argument to `False`."
   ]
  },
  {
   "cell_type": "markdown",
   "metadata": {},
   "source": [
    "#### proccess using `tf_record_dataset`:"
   ]
  },
  {
   "cell_type": "code",
   "execution_count": 12,
   "metadata": {},
   "outputs": [],
   "source": [
    "train_input = td.tf_data(target_name='weekly_sales', split='train', is_training=True)\n",
    "train_input_processed = train_input.tf_record_dataset(process=True, batch_size =32, num_epochs=1)"
   ]
  },
  {
   "cell_type": "code",
   "execution_count": 13,
   "metadata": {},
   "outputs": [
    {
     "name": "stdout",
     "output_type": "stream",
     "text": [
      "<PrefetchDataset shapes: ((32, 14), (32,)), types: (tf.float32, tf.float32)>"
     ]
    }
   ],
   "source": [
    "train_input_processed"
   ]
  },
  {
   "cell_type": "markdown",
   "metadata": {},
   "source": [
    "#### Apply custom logic to `tf_record_dataset`:"
   ]
  },
  {
   "cell_type": "code",
   "execution_count": 14,
   "metadata": {},
   "outputs": [],
   "source": [
    "td = fs.get_training_dataset(\"sales_model\", 6)\n",
    "\n",
    "train_input = td.tf_data(target_name=None, split='train', is_training=True)\n",
    "train_input_not_processed = train_input.tf_record_dataset()"
   ]
  },
  {
   "cell_type": "code",
   "execution_count": 15,
   "metadata": {},
   "outputs": [
    {
     "name": "stdout",
     "output_type": "stream",
     "text": [
      "<ParallelMapDataset shapes: {cpi: (), dept: (), fuel_price: (), is_holiday: (), sales_last_month_store: (), sales_last_month_store_dep: (), sales_last_quarter_store: (), sales_last_quarter_store_dep: (), sales_last_six_month_store: (), sales_last_six_month_store_dep: (), sales_last_year_store: (), sales_last_year_store_dep: (), store: (), unemployment: (), weekly_sales: ()}, types: {cpi: tf.float32, dept: tf.int64, fuel_price: tf.float32, is_holiday: tf.int64, sales_last_month_store: tf.float32, sales_last_month_store_dep: tf.float32, sales_last_quarter_store: tf.float32, sales_last_quarter_store_dep: tf.float32, sales_last_six_month_store: tf.float32, sales_last_six_month_store_dep: tf.float32, sales_last_year_store: tf.float32, sales_last_year_store_dep: tf.float32, store: tf.int64, unemployment: tf.float32, weekly_sales: tf.float32}>"
     ]
    }
   ],
   "source": [
    "train_input_not_processed"
   ]
  },
  {
   "cell_type": "code",
   "execution_count": 20,
   "metadata": {},
   "outputs": [],
   "source": [
    "import tensorflow as tf\n",
    "\n",
    "batch_size = 32\n",
    "num_epochs = 1 \n",
    "\n",
    "def custom_impl(example):\n",
    "    feature_names = [td_feature.name for td_feature in td.schema] \n",
    "    label_name = feature_names.pop(feature_names.index('weekly_sales'))\n",
    "    x = [tf.cast(example[feature_name], tf.float32) for feature_name in feature_names]\n",
    "    y = example[label_name]\n",
    "    return x,y\n",
    "\n",
    "train_input_custum_processed = train_input_not_processed.map(lambda value: custom_impl(value))\\\n",
    "    .shuffle(num_epochs * batch_size)\\\n",
    "    .repeat(num_epochs * batch_size)\\\n",
    "    .cache()\\\n",
    "    .batch(batch_size, drop_remainder=True)\\\n",
    "    .prefetch(tf.data.experimental.AUTOTUNE)\n"
   ]
  },
  {
   "cell_type": "code",
   "execution_count": 21,
   "metadata": {},
   "outputs": [
    {
     "name": "stdout",
     "output_type": "stream",
     "text": [
      "<PrefetchDataset shapes: ((32, 14), (32,)), types: (tf.float32, tf.float32)>"
     ]
    }
   ],
   "source": [
    "train_input_custum_processed"
   ]
  }
 ],
 "metadata": {
  "kernelspec": {
   "display_name": "PySpark",
   "language": "python",
   "name": "pysparkkernel"
  },
  "language_info": {
   "codemirror_mode": {
    "name": "python",
    "version": 3
   },
   "mimetype": "text/x-python",
   "name": "pyspark",
   "pygments_lexer": "python3"
  }
 },
 "nbformat": 4,
 "nbformat_minor": 4
}
