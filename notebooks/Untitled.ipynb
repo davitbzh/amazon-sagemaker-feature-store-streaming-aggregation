{
 "cells": [
  {
   "cell_type": "code",
   "execution_count": null,
   "id": "sudden-night",
   "metadata": {},
   "outputs": [],
   "source": [
    "from contextlib import ContextDecorator\n",
    "class file_handler_mixin(ContextDecorator):\n",
    "    def __init__(self,file_name, file_mode):\n",
    "        self._file_name = file_name\n",
    "        self._file_mode = file_mode\n",
    "        self._file = None\n",
    "\n",
    "    def __enter__(self):\n",
    "        print(f\"Enter Method: File Name {self._file_name}\")\n",
    "        self._file = open(self._file_name, self._file_mode)\n",
    "        return self._file\n",
    "\n",
    "    def __exit__(self,exc_type,exc_value,exc_traceback):\n",
    "        print(f\"Exit Method: File Mode {self._file_mode}\")\n",
    "        self._file.close()\n",
    "\n",
    "@file_handler_mixin(\"test.txt\",\"w\" )\n",
    "def write_to_file():\n",
    "    print(\"Not access to the value returned by the __enter__ method\")\n",
    "\n",
    "if __name__ == \"__main__\":\n",
    "    write_to_file()"
   ]
  }
 ],
 "metadata": {
  "kernelspec": {
   "display_name": "Python",
   "language": "python",
   "name": "python3"
  },
  "language_info": {
   "codemirror_mode": {
    "name": "ipython",
    "version": 3
   },
   "file_extension": ".py",
   "mimetype": "text/x-python",
   "name": "python",
   "nbconvert_exporter": "python",
   "pygments_lexer": "ipython3",
   "version": "3.7.9"
  }
 },
 "nbformat": 4,
 "nbformat_minor": 5
}
